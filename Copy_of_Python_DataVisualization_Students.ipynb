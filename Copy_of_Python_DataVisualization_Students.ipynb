{
  "nbformat": 4,
  "nbformat_minor": 0,
  "metadata": {
    "kernelspec": {
      "display_name": "Python 3",
      "language": "python",
      "name": "python3"
    },
    "language_info": {
      "codemirror_mode": {
        "name": "ipython",
        "version": 3
      },
      "file_extension": ".py",
      "mimetype": "text/x-python",
      "name": "python",
      "nbconvert_exporter": "python",
      "pygments_lexer": "ipython3",
      "version": "3.5.3"
    },
    "colab": {
      "provenance": []
    }
  },
  "cells": [
    {
      "cell_type": "code",
      "metadata": {
        "id": "2bbT2mA1uU85",
        "colab": {
          "base_uri": "https://localhost:8080/"
        },
        "outputId": "26d1a145-614b-4654-eb2f-a2ac888057fc"
      },
      "source": [
        "!wget https://raw.githubusercontent.com/Mixelon-tera/Workshop3_DataViz/master/exams_100.csv"
      ],
      "execution_count": null,
      "outputs": [
        {
          "output_type": "stream",
          "name": "stdout",
          "text": [
            "--2021-10-03 07:36:07--  https://raw.githubusercontent.com/Mixelon-tera/Workshop3_DataViz/master/exams_100.csv\n",
            "Resolving raw.githubusercontent.com (raw.githubusercontent.com)... 185.199.111.133, 185.199.108.133, 185.199.109.133, ...\n",
            "Connecting to raw.githubusercontent.com (raw.githubusercontent.com)|185.199.111.133|:443... connected.\n",
            "HTTP request sent, awaiting response... 200 OK\n",
            "Length: 7253 (7.1K) [text/plain]\n",
            "Saving to: ‘exams_100.csv’\n",
            "\n",
            "\rexams_100.csv         0%[                    ]       0  --.-KB/s               \rexams_100.csv       100%[===================>]   7.08K  --.-KB/s    in 0s      \n",
            "\n",
            "2021-10-03 07:36:07 (65.6 MB/s) - ‘exams_100.csv’ saved [7253/7253]\n",
            "\n"
          ]
        }
      ]
    },
    {
      "cell_type": "code",
      "metadata": {
        "id": "TUusmzVf17J3",
        "colab": {
          "base_uri": "https://localhost:8080/"
        },
        "outputId": "3bb38821-34e3-45b1-bd25-66c8cd6d90ae"
      },
      "source": [
        "import platform\n",
        "#ตรวจสอบเวอร์ชันไพธอน\n",
        "print(\"Python version: {}\".format(platform.sys.version))"
      ],
      "execution_count": null,
      "outputs": [
        {
          "output_type": "stream",
          "name": "stdout",
          "text": [
            "Python version: 3.7.12 (default, Sep 10 2021, 00:21:48) \n",
            "[GCC 7.5.0]\n"
          ]
        }
      ]
    },
    {
      "cell_type": "code",
      "metadata": {
        "id": "Kg0YcZL017J-",
        "colab": {
          "base_uri": "https://localhost:8080/"
        },
        "outputId": "309688da-c157-4588-f9d8-ca22009db451"
      },
      "source": [
        "import os\n",
        "''' เราจะเช็ค path ของไฟล์ excel ชนิด (.csv) ก่อนว่ามีไฟล์ชนิดนี้อยู่ใน folder เดียวกันกับไฟล์ jupyter ไหม\n",
        "ด้วยการเรียกใช้ module ของไพธอน คือ os.path.exists() \n",
        "'''\n",
        "file_name = 'exams_100.csv'\n",
        "if os.path.exists(file_name):\n",
        "    print('Found that file')\n",
        "else:\n",
        "    print('Please check csv file.')\n"
      ],
      "execution_count": null,
      "outputs": [
        {
          "output_type": "stream",
          "name": "stdout",
          "text": [
            "Found that file\n"
          ]
        }
      ]
    },
    {
      "cell_type": "code",
      "metadata": {
        "id": "5pohyEgL17KA"
      },
      "source": [
        "import pandas as pd\n",
        "import matplotlib.pyplot as plt"
      ],
      "execution_count": null,
      "outputs": []
    },
    {
      "cell_type": "code",
      "metadata": {
        "scrolled": false,
        "id": "UNpCY7FY17KD",
        "colab": {
          "base_uri": "https://localhost:8080/"
        },
        "outputId": "0b9d66ca-a142-4d19-87a2-8ab0736f581f"
      },
      "source": [
        "#อ่านไฟล์ csv แล้วเอาค่ามาเก็บไว้ในตัวแปรหนึ่งที่ชื่อว่า 'csv_data'\n",
        "csv_data = pd.read_csv(file_name)\n",
        "print(csv_data.head())"
      ],
      "execution_count": null,
      "outputs": [
        {
          "output_type": "stream",
          "name": "stdout",
          "text": [
            "   gender race/ethnicity  ... reading score writing score\n",
            "0  female        group C  ...            65            69\n",
            "1  female        group D  ...            75            78\n",
            "2  female        group E  ...            74            75\n",
            "3    male        group C  ...            76            67\n",
            "4    male        group C  ...            49            49\n",
            "\n",
            "[5 rows x 8 columns]\n"
          ]
        }
      ]
    },
    {
      "cell_type": "markdown",
      "metadata": {
        "id": "ByvLSRHx17KH"
      },
      "source": [
        "# TO DO 1 :  แสดงผลข้อมูลเป็นจำนวน 50 แถว"
      ]
    },
    {
      "cell_type": "markdown",
      "metadata": {
        "id": "m6Akantk17KH"
      },
      "source": [
        "<img src=\"https://github.com/thcktw/python-com-resource/raw/master/lab4datavis/result_of_todo1.png\">"
      ]
    },
    {
      "cell_type": "code",
      "metadata": {
        "id": "GLZFls4W17KI",
        "colab": {
          "base_uri": "https://localhost:8080/"
        },
        "outputId": "1043c3e8-86d7-41cd-caf7-1fc4238b0220"
      },
      "source": [
        "#Write code below please.\n",
        "print(csv_data.head(50))"
      ],
      "execution_count": null,
      "outputs": [
        {
          "output_type": "stream",
          "name": "stdout",
          "text": [
            "    gender race/ethnicity  ... reading score writing score\n",
            "0   female        group C  ...            65            69\n",
            "1   female        group D  ...            75            78\n",
            "2   female        group E  ...            74            75\n",
            "3     male        group C  ...            76            67\n",
            "4     male        group C  ...            49            49\n",
            "5   female        group D  ...            91            89\n",
            "6     male        group D  ...            55            55\n",
            "7   female        group E  ...            88            84\n",
            "8   female        group D  ...            70            73\n",
            "9   female        group D  ...            66            74\n",
            "10  female        group D  ...            46            54\n",
            "11  female        group B  ...            75            66\n",
            "12    male        group C  ...            53            51\n",
            "13  female        group B  ...            75            72\n",
            "14    male        group C  ...            71            61\n",
            "15  female        group B  ...            82            75\n",
            "16  female        group E  ...            57            62\n",
            "17    male        group E  ...            77            76\n",
            "18  female        group C  ...            82            80\n",
            "19  female        group E  ...            89            88\n",
            "20    male        group B  ...            52            48\n",
            "21    male        group E  ...            77            73\n",
            "22    male        group C  ...            59            54\n",
            "23    male        group C  ...            75            66\n",
            "24    male        group E  ...            68            65\n",
            "25    male        group D  ...            72            73\n",
            "26    male        group D  ...            59            67\n",
            "27  female        group D  ...            60            57\n",
            "28  female        group E  ...            72            67\n",
            "29    male        group D  ...            52            45\n",
            "30  female        group E  ...            91            88\n",
            "31    male        group B  ...            69            77\n",
            "32  female        group C  ...            80            75\n",
            "33    male        group D  ...            62            50\n",
            "34  female        group C  ...            74            78\n",
            "35    male        group D  ...            47            48\n",
            "36    male        group B  ...            74            71\n",
            "37  female        group C  ...            81            71\n",
            "38    male        group C  ...            49            57\n",
            "39    male        group B  ...            51            51\n",
            "40    male        group C  ...            46            43\n",
            "41    male        group A  ...            67            61\n",
            "42    male        group D  ...            83            81\n",
            "43  female        group C  ...            71            77\n",
            "44    male        group A  ...            86            83\n",
            "45    male        group C  ...            53            47\n",
            "46  female        group D  ...            78            81\n",
            "47    male        group A  ...            69            70\n",
            "48    male        group C  ...            57            56\n",
            "49  female        group C  ...            67            63\n",
            "\n",
            "[50 rows x 8 columns]\n"
          ]
        }
      ]
    },
    {
      "cell_type": "markdown",
      "metadata": {
        "id": "PbetAquw17KL"
      },
      "source": [
        "# TO DO 2 : นับจำนวนนักเรียนเพศชาย-หญิงจากไฟล์ csv แล้วแสดงผลทางหน้าจอ"
      ]
    },
    {
      "cell_type": "markdown",
      "metadata": {
        "id": "FzxnYBT717KM"
      },
      "source": [
        "<img src=\"https://github.com/thcktw/python-com-resource/raw/master/lab4datavis/result_of_todo2.png\">"
      ]
    },
    {
      "cell_type": "code",
      "metadata": {
        "id": "8fthMTLv17KM",
        "colab": {
          "base_uri": "https://localhost:8080/"
        },
        "outputId": "30175734-f23c-4881-8615-8b1d41f95162"
      },
      "source": [
        "#Write code below please.\n",
        "gender = csv_data['gender']\n",
        "\n",
        "gender = list(gender)\n",
        "xx = 0\n",
        "xy = 0\n",
        "for i in range(len(gender)):\n",
        "  if gender[i] == \"female\":\n",
        "    xx += 1\n",
        "  else:\n",
        "    xy += 1\n",
        "print(\"Amount of student:\",str(len(gender)))\n",
        "print(\"Amount of male student:\",str(xy))\n",
        "print(\"Amount of female student:\",str(xx))\n"
      ],
      "execution_count": null,
      "outputs": [
        {
          "output_type": "stream",
          "name": "stdout",
          "text": [
            "Amount of student: 100\n",
            "Amount of male student: 51\n",
            "Amount of female student: 49\n"
          ]
        }
      ]
    },
    {
      "cell_type": "markdown",
      "metadata": {
        "id": "13y9Ir0D17KP"
      },
      "source": [
        "# TO DO 3 : สร้างกราฟแท่งเปรียบเทียบจำนวนนักเรียนเพศชาย-หญิง\n",
        "\n",
        "<p> ภาพตัวอย่าง</p>\n",
        "<img src=\"https://github.com/thcktw/python-com-resource/raw/master/lab4datavis/result_of_todo3.png\">"
      ]
    },
    {
      "cell_type": "code",
      "metadata": {
        "id": "XgG5pcBw17KP",
        "colab": {
          "base_uri": "https://localhost:8080/",
          "height": 295
        },
        "outputId": "ad57062e-3cc8-4a0e-bc9a-4d29a0dd07dc"
      },
      "source": [
        "#Write code below please.\n",
        "x = [\"Male\",\"Female\"]\n",
        "amout = [xy,xx]\n",
        "color = [\"red\",\"blue\"]\n",
        "x_pos = [idx for idx,val in enumerate(x)]\n",
        "plt.bar(x_pos,amout,color=color)\n",
        "plt.xlabel(\"Sex\")\n",
        "plt.ylabel(\"Amout\")\n",
        "plt.title(\"Comparison of student genders\")\n",
        "plt.xticks(x_pos,x)\n",
        "plt.show()"
      ],
      "execution_count": null,
      "outputs": [
        {
          "output_type": "display_data",
          "data": {
            "image/png": "[encoded data removed]",
            "text/plain": [
              "<Figure size 432x288 with 1 Axes>"
            ]
          },
          "metadata": {
            "needs_background": "light"
          }
        }
      ]
    },
    {
      "cell_type": "markdown",
      "metadata": {
        "id": "LRrcux0X17KR"
      },
      "source": [
        "# TO DO 4 : เรียงลำดับคะแนนวิชาคณิตศาสตร์และวิชาการอ่านของนักเรียนจากน้อยไปหามาก และแสดงผลคะแนนทั้ง 2 วิชาในรูปแบบกราฟเส้น โดยจำนวนนักเรียนที่ต้องการแสดงบนกราฟเส้นคือ 10 คนแรกที่มีคะแนนน้อยที่สุด\n",
        "<p> ภาพตัวอย่าง</p>\n",
        "<img src=\"https://github.com/thcktw/python-com-resource/raw/master/lab4datavis/result_of_todo4.png\">\n",
        "\n",
        "## ตกแต่งสีสันของกราฟได้ตามใจชอบ :)"
      ]
    },
    {
      "cell_type": "code",
      "metadata": {
        "id": "4IaZf_gD17KS"
      },
      "source": [
        "# Create index of 100 students and save it in a list \n",
        "index_student = [idx+1 for idx in range(len(gender))]\n",
        "#print(index_student) #นักเรียน 100 คน\n",
        "\n",
        "#ดึงค่าคะแนนของนักเรียนทั้ง 3 วิชามาจากDataFrameของPandas\n",
        "math_score = csv_data['math score']\n",
        "reading_score = csv_data['reading score']\n",
        "writing_score = csv_data['writing score']"
      ],
      "execution_count": null,
      "outputs": []
    },
    {
      "cell_type": "code",
      "metadata": {
        "id": "JS_kMN6s17KV"
      },
      "source": [
        "#เรียงค่าคะแนนวิชาคณิตศาตร์ และวิชาการอ่านจากน้อยไปหามาก\n",
        "#วิชาคณิตศาสตร์ \n",
        "#Write code below please.\n",
        "lstmath = sorted(list(math_score))\n",
        "\n",
        "#วิชาการอ่าน\n",
        "lstread = sorted(list(reading_score))\n",
        "\n",
        "#Write code below please.\n",
        "lstwrite = sorted(list(writing_score))"
      ],
      "execution_count": null,
      "outputs": []
    },
    {
      "cell_type": "code",
      "metadata": {
        "id": "Jp10IWwB17KZ",
        "colab": {
          "base_uri": "https://localhost:8080/",
          "height": 404
        },
        "outputId": "ff905b0d-9958-4870-ec0a-543c372a2fe7"
      },
      "source": [
        "plt.figure(figsize=(10,6))\n",
        "# Write code below please. #\n",
        "indiv = [n for n in range(10)]\n",
        "plt.plot(indiv,lstmath[:10],color=\"red\",label=\"math\")\n",
        "plt.plot(indiv,lstread[:10],color=\"blue\",label=\"reading\")\n",
        "plt.legend(loc='best')\n",
        "############################\n",
        "plt.title('Line chart comparison on Math and Reading score of 10 students')\n",
        "plt.ylabel('Score')\n",
        "plt.xlabel('Individual student')\n",
        "plt.xticks(indiv,indiv)\n",
        "plt.show()"
      ],
      "execution_count": null,
      "outputs": [
        {
          "output_type": "display_data",
          "data": {
            "image/png": "[encoded data removed]",
            "text/plain": [
              "<Figure size 720x432 with 1 Axes>"
            ]
          },
          "metadata": {
            "needs_background": "light"
          }
        }
      ]
    },
    {
      "cell_type": "markdown",
      "metadata": {
        "id": "clyAbU7617Kf"
      },
      "source": [
        "# TO DO 5: หาค่ามัธยฐานและค่าเฉลี่ยของแต่ละวิชา และนำไปแสดงผลบนกราฟแท่งแบบ Multiple plot \n",
        "\n",
        "<p> ภาพตัวอย่าง</p>\n",
        "<img src=\"https://github.com/thcktw/python-com-resource/raw/master/lab4datavis/result_of_todo5_new.png\">"
      ]
    },
    {
      "cell_type": "code",
      "metadata": {
        "id": "jC0ioc8d17Kg",
        "colab": {
          "base_uri": "https://localhost:8080/"
        },
        "outputId": "eb3fb230-65e7-4527-dfe3-e1f090ac8e00"
      },
      "source": [
        "#Write code below please.\n",
        "mean_math = sum(lstmath)/100\n",
        "mean_writing = sum(lstwrite)/100\n",
        "mean_reading = sum(lstread)/100\n",
        "\n",
        "median_math = (lstmath[50]+lstmath[49])/2\n",
        "median_reading = (lstread[49]+lstread[50])/2\n",
        "median_writing = (lstwrite[49]+lstwrite[50])/2\n",
        "print(mean_math)\n",
        "print(median_reading)"
      ],
      "execution_count": null,
      "outputs": [
        {
          "output_type": "stream",
          "name": "stdout",
          "text": [
            "68.06\n",
            "71.0\n"
          ]
        }
      ]
    },
    {
      "cell_type": "code",
      "metadata": {
        "id": "Cbi55F1L17Kn",
        "colab": {
          "base_uri": "https://localhost:8080/",
          "height": 281
        },
        "outputId": "2ff15dbb-9acb-4330-b45d-532a580f31db"
      },
      "source": [
        "#Plot multiple bar graph\n",
        "#Write code below please.\n",
        "n = 3\n",
        "mean = [mean_math,mean_reading,mean_writing]\n",
        "median = [median_math,median_reading,median_writing]\n",
        "index = [n for n in range(3)]\n",
        "index_median = [index + 0.2 for index in range(3)]\n",
        "index_mean = [index - 0.2 for index in range(3)]\n",
        "plt.bar(index_median,median,color=\"turquoise\",label=\"median\",width=0.4)\n",
        "plt.bar(index_mean,mean,color=\"violet\",label=\"mean\",width=0.4)\n",
        "plt.xticks(index,[\"Math\",\"Reading\",\"Writing\"])\n",
        "plt.ylabel(\"Scores\")\n",
        "plt.title(\"Scores by group and gender\")\n",
        "plt.legend(loc=\"best\")\n",
        "plt.show()"
      ],
      "execution_count": null,
      "outputs": [
        {
          "output_type": "display_data",
          "data": {
            "image/png": "[encoded data removed]",
            "text/plain": [
              "<Figure size 432x288 with 1 Axes>"
            ]
          },
          "metadata": {
            "needs_background": "light"
          }
        }
      ]
    }
  ]
}